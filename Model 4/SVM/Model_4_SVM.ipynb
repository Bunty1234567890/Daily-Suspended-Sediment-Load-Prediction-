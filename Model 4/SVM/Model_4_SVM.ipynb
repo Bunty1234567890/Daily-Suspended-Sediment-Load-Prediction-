{
  "nbformat": 4,
  "nbformat_minor": 0,
  "metadata": {
    "colab": {
      "provenance": []
    },
    "kernelspec": {
      "name": "python3",
      "display_name": "Python 3"
    },
    "language_info": {
      "name": "python"
    }
  },
  "cells": [
    {
      "cell_type": "code",
      "execution_count": 1,
      "metadata": {
        "id": "HGN5vZCvOH24"
      },
      "outputs": [],
      "source": [
        "# Basic Imports \n",
        "import numpy as np\n",
        "import pandas as pd\n",
        "# Plotting \n",
        "import matplotlib.pyplot as plt\n",
        "import plotly.express as px\n",
        "import seaborn as sns\n",
        "%matplotlib inline\n",
        "\n",
        "# Preprocessing\n",
        "from sklearn.model_selection import train_test_split, KFold\n",
        "from sklearn.preprocessing import LabelEncoder\n",
        "from sklearn.preprocessing import StandardScaler\n",
        "from sklearn.model_selection import cross_val_score\n",
        "# Metrics \n",
        "from sklearn.metrics import mean_squared_error, mean_absolute_error, r2_score\n",
        "\n",
        "# ML Models\n",
        "import lightgbm as lgb\n",
        "from lightgbm import LGBMRegressor \n",
        "import xgboost as xg \n",
        "from sklearn.ensemble import RandomForestRegressor\n",
        "from sklearn import svm\n",
        "from sklearn.linear_model import LinearRegression\n",
        "\n",
        "# Ignore Warnings \n",
        "import warnings\n",
        "warnings.filterwarnings('ignore')"
      ]
    },
    {
      "cell_type": "code",
      "source": [
        "dataset=pd.read_csv(\"Model 4.csv\")"
      ],
      "metadata": {
        "id": "cTgHlH27OhYW"
      },
      "execution_count": 3,
      "outputs": []
    },
    {
      "cell_type": "code",
      "source": [
        "dataset.head()"
      ],
      "metadata": {
        "colab": {
          "base_uri": "https://localhost:8080/",
          "height": 206
        },
        "id": "9pDaMOciOheY",
        "outputId": "e63eeb82-5e2c-4e91-cb58-301737ae8539"
      },
      "execution_count": 4,
      "outputs": [
        {
          "output_type": "execute_result",
          "data": {
            "text/plain": [
              "   SSL(t-1)  SSL(t)  q(t-1)  q(t)\n",
              "0       0.5     1.1     1.9   2.7\n",
              "1       1.1     0.7     2.7   2.6\n",
              "2       0.7     0.4     2.6   2.2\n",
              "3       0.4     0.5     2.2   2.0\n",
              "4       0.5     1.2     2.0   2.7"
            ],
            "text/html": [
              "\n",
              "  <div id=\"df-c54015c2-8d65-47d8-a840-6d812b41a7f9\">\n",
              "    <div class=\"colab-df-container\">\n",
              "      <div>\n",
              "<style scoped>\n",
              "    .dataframe tbody tr th:only-of-type {\n",
              "        vertical-align: middle;\n",
              "    }\n",
              "\n",
              "    .dataframe tbody tr th {\n",
              "        vertical-align: top;\n",
              "    }\n",
              "\n",
              "    .dataframe thead th {\n",
              "        text-align: right;\n",
              "    }\n",
              "</style>\n",
              "<table border=\"1\" class=\"dataframe\">\n",
              "  <thead>\n",
              "    <tr style=\"text-align: right;\">\n",
              "      <th></th>\n",
              "      <th>SSL(t-1)</th>\n",
              "      <th>SSL(t)</th>\n",
              "      <th>q(t-1)</th>\n",
              "      <th>q(t)</th>\n",
              "    </tr>\n",
              "  </thead>\n",
              "  <tbody>\n",
              "    <tr>\n",
              "      <th>0</th>\n",
              "      <td>0.5</td>\n",
              "      <td>1.1</td>\n",
              "      <td>1.9</td>\n",
              "      <td>2.7</td>\n",
              "    </tr>\n",
              "    <tr>\n",
              "      <th>1</th>\n",
              "      <td>1.1</td>\n",
              "      <td>0.7</td>\n",
              "      <td>2.7</td>\n",
              "      <td>2.6</td>\n",
              "    </tr>\n",
              "    <tr>\n",
              "      <th>2</th>\n",
              "      <td>0.7</td>\n",
              "      <td>0.4</td>\n",
              "      <td>2.6</td>\n",
              "      <td>2.2</td>\n",
              "    </tr>\n",
              "    <tr>\n",
              "      <th>3</th>\n",
              "      <td>0.4</td>\n",
              "      <td>0.5</td>\n",
              "      <td>2.2</td>\n",
              "      <td>2.0</td>\n",
              "    </tr>\n",
              "    <tr>\n",
              "      <th>4</th>\n",
              "      <td>0.5</td>\n",
              "      <td>1.2</td>\n",
              "      <td>2.0</td>\n",
              "      <td>2.7</td>\n",
              "    </tr>\n",
              "  </tbody>\n",
              "</table>\n",
              "</div>\n",
              "      <button class=\"colab-df-convert\" onclick=\"convertToInteractive('df-c54015c2-8d65-47d8-a840-6d812b41a7f9')\"\n",
              "              title=\"Convert this dataframe to an interactive table.\"\n",
              "              style=\"display:none;\">\n",
              "        \n",
              "  <svg xmlns=\"http://www.w3.org/2000/svg\" height=\"24px\"viewBox=\"0 0 24 24\"\n",
              "       width=\"24px\">\n",
              "    <path d=\"M0 0h24v24H0V0z\" fill=\"none\"/>\n",
              "    <path d=\"M18.56 5.44l.94 2.06.94-2.06 2.06-.94-2.06-.94-.94-2.06-.94 2.06-2.06.94zm-11 1L8.5 8.5l.94-2.06 2.06-.94-2.06-.94L8.5 2.5l-.94 2.06-2.06.94zm10 10l.94 2.06.94-2.06 2.06-.94-2.06-.94-.94-2.06-.94 2.06-2.06.94z\"/><path d=\"M17.41 7.96l-1.37-1.37c-.4-.4-.92-.59-1.43-.59-.52 0-1.04.2-1.43.59L10.3 9.45l-7.72 7.72c-.78.78-.78 2.05 0 2.83L4 21.41c.39.39.9.59 1.41.59.51 0 1.02-.2 1.41-.59l7.78-7.78 2.81-2.81c.8-.78.8-2.07 0-2.86zM5.41 20L4 18.59l7.72-7.72 1.47 1.35L5.41 20z\"/>\n",
              "  </svg>\n",
              "      </button>\n",
              "      \n",
              "  <style>\n",
              "    .colab-df-container {\n",
              "      display:flex;\n",
              "      flex-wrap:wrap;\n",
              "      gap: 12px;\n",
              "    }\n",
              "\n",
              "    .colab-df-convert {\n",
              "      background-color: #E8F0FE;\n",
              "      border: none;\n",
              "      border-radius: 50%;\n",
              "      cursor: pointer;\n",
              "      display: none;\n",
              "      fill: #1967D2;\n",
              "      height: 32px;\n",
              "      padding: 0 0 0 0;\n",
              "      width: 32px;\n",
              "    }\n",
              "\n",
              "    .colab-df-convert:hover {\n",
              "      background-color: #E2EBFA;\n",
              "      box-shadow: 0px 1px 2px rgba(60, 64, 67, 0.3), 0px 1px 3px 1px rgba(60, 64, 67, 0.15);\n",
              "      fill: #174EA6;\n",
              "    }\n",
              "\n",
              "    [theme=dark] .colab-df-convert {\n",
              "      background-color: #3B4455;\n",
              "      fill: #D2E3FC;\n",
              "    }\n",
              "\n",
              "    [theme=dark] .colab-df-convert:hover {\n",
              "      background-color: #434B5C;\n",
              "      box-shadow: 0px 1px 3px 1px rgba(0, 0, 0, 0.15);\n",
              "      filter: drop-shadow(0px 1px 2px rgba(0, 0, 0, 0.3));\n",
              "      fill: #FFFFFF;\n",
              "    }\n",
              "  </style>\n",
              "\n",
              "      <script>\n",
              "        const buttonEl =\n",
              "          document.querySelector('#df-c54015c2-8d65-47d8-a840-6d812b41a7f9 button.colab-df-convert');\n",
              "        buttonEl.style.display =\n",
              "          google.colab.kernel.accessAllowed ? 'block' : 'none';\n",
              "\n",
              "        async function convertToInteractive(key) {\n",
              "          const element = document.querySelector('#df-c54015c2-8d65-47d8-a840-6d812b41a7f9');\n",
              "          const dataTable =\n",
              "            await google.colab.kernel.invokeFunction('convertToInteractive',\n",
              "                                                     [key], {});\n",
              "          if (!dataTable) return;\n",
              "\n",
              "          const docLinkHtml = 'Like what you see? Visit the ' +\n",
              "            '<a target=\"_blank\" href=https://colab.research.google.com/notebooks/data_table.ipynb>data table notebook</a>'\n",
              "            + ' to learn more about interactive tables.';\n",
              "          element.innerHTML = '';\n",
              "          dataTable['output_type'] = 'display_data';\n",
              "          await google.colab.output.renderOutput(dataTable, element);\n",
              "          const docLink = document.createElement('div');\n",
              "          docLink.innerHTML = docLinkHtml;\n",
              "          element.appendChild(docLink);\n",
              "        }\n",
              "      </script>\n",
              "    </div>\n",
              "  </div>\n",
              "  "
            ]
          },
          "metadata": {},
          "execution_count": 4
        }
      ]
    },
    {
      "cell_type": "code",
      "source": [
        "# Split into features (X) and target (y)\n",
        "X = dataset.iloc[:, :-1]\n",
        "y = dataset.iloc[:, -1]"
      ],
      "metadata": {
        "id": "WGNNgzuUOhgb"
      },
      "execution_count": 5,
      "outputs": []
    },
    {
      "cell_type": "code",
      "source": [
        "# Split into training and testing sets\n",
        "X_train, X_test, y_train, y_test = train_test_split(X, y, test_size=0.2, random_state=14)"
      ],
      "metadata": {
        "id": "5AtLq9MSOhkp"
      },
      "execution_count": 6,
      "outputs": []
    },
    {
      "cell_type": "code",
      "source": [
        "scaler = StandardScaler()\n",
        "X_train = scaler.fit_transform(X_train)\n",
        "X_test = scaler.transform(X_test)"
      ],
      "metadata": {
        "id": "KzYshZmEOhm0"
      },
      "execution_count": 7,
      "outputs": []
    },
    {
      "cell_type": "code",
      "source": [
        "from sklearn.model_selection import cross_val_score"
      ],
      "metadata": {
        "id": "Q3Gn2l7FOhq5"
      },
      "execution_count": 8,
      "outputs": []
    },
    {
      "cell_type": "code",
      "source": [
        "##% evaluateRegressor\n",
        "# from sklearn.metrics import mean_squared_error, mean_absolute_error, r2_scor\n",
        "def evaluateRegressor(true,predicted,message = \"Test set\"):\n",
        "    MSE = mean_squared_error(true,predicted,squared = True)\n",
        "    MAE = mean_absolute_error(true,predicted)\n",
        "    RMSE = mean_squared_error(true,predicted,squared = False)\n",
        "    R_squared = r2_score(true,predicted)\n",
        "    print(message)\n",
        "    print(\"MSE:\", MSE)\n",
        "    print(\"MAE:\", MAE)\n",
        "    print(\"RMSE:\", RMSE)\n",
        "    print(\"R-squared:\", R_squared)\n"
      ],
      "metadata": {
        "id": "6xkgkGCoOhs_"
      },
      "execution_count": 9,
      "outputs": []
    },
    {
      "cell_type": "code",
      "source": [
        "##% Initial Models\n",
        "# from sklearn.ensemble import RandomForestRegressor\n",
        "# from sklearn import svm\n",
        "\n",
        "\n",
        "SVM = svm.SVR().fit(X_train, y_train) \n"
      ],
      "metadata": {
        "id": "HKwI7r8qOhwu"
      },
      "execution_count": 10,
      "outputs": []
    },
    {
      "cell_type": "code",
      "source": [
        "# Evaluate the performance of the model on a separate test set\n",
        "y_pred = SVM.predict(X_test)\n",
        "test_score = mean_squared_error(y_test, y_pred)\n",
        "\n",
        "\n",
        "print('Test score:', test_score)"
      ],
      "metadata": {
        "colab": {
          "base_uri": "https://localhost:8080/"
        },
        "id": "aHE5TqQcOhyy",
        "outputId": "2659c5c2-d06b-4cd0-ecfe-9499b9076c68"
      },
      "execution_count": 11,
      "outputs": [
        {
          "output_type": "stream",
          "name": "stdout",
          "text": [
            "Test score: 2.36604131961766\n"
          ]
        }
      ]
    },
    {
      "cell_type": "code",
      "source": [
        "# Predict on the training and testing data\n",
        "y_train_pred = SVM.predict(X_train)\n",
        "y_test_pred = SVM.predict(X_test)\n",
        "# Calculate the training and testing error metrics\n",
        "rmse_train = np.sqrt(mean_squared_error(y_train, y_train_pred))\n",
        "nse_train = 1 - mean_squared_error(y_train, y_train_pred) / np.var(y_train)\n",
        "r2_train = r2_score(y_train, y_train_pred)\n",
        "rmse_test = np.sqrt(mean_squared_error(y_test, y_test_pred))\n",
        "nse_test = 1 - mean_squared_error(y_test, y_test_pred) / np.var(y_test)\n",
        "r2_test = r2_score(y_test, y_test_pred)"
      ],
      "metadata": {
        "id": "zk8fBJLWOh2p"
      },
      "execution_count": 12,
      "outputs": []
    },
    {
      "cell_type": "code",
      "source": [
        "print(\"SVM:\")\n",
        "print(\"Train RMSE: {:.4f}\".format(rmse_train))\n",
        "print(\"Train NSE : {:.4f}\".format(nse_train))\n",
        "print(\"Train R^2 : {:.4f}\".format(r2_train))\n",
        "print(\"Test RMSE : {:.4f}\".format(rmse_test))\n",
        "print(\"Test NSE  : {:.4f}\".format(nse_test))\n",
        "print(\"Test R^2  : {:.4f}\".format(r2_test))"
      ],
      "metadata": {
        "colab": {
          "base_uri": "https://localhost:8080/"
        },
        "id": "Th5Eh46UOh6W",
        "outputId": "a0587ce0-230b-4757-a426-337843bc1e90"
      },
      "execution_count": 13,
      "outputs": [
        {
          "output_type": "stream",
          "name": "stdout",
          "text": [
            "SVM:\n",
            "Train RMSE: 1.7334\n",
            "Train NSE : 0.7432\n",
            "Train R^2 : 0.7432\n",
            "Test RMSE : 1.5382\n",
            "Test NSE  : 0.7773\n",
            "Test R^2  : 0.7773\n"
          ]
        }
      ]
    },
    {
      "cell_type": "code",
      "source": [
        "pd.DataFrame(y_train).to_csv('/content/actualTrain.csv', index=False, header=False)\n",
        "pd.DataFrame(y_train_pred).to_csv('/content/predictTrain.csv', index=False, header=False)\n",
        "pd.DataFrame(y_test).to_csv('/content/actualTest.csv', index=False, header=False)\n",
        "pd.DataFrame(y_test_pred).to_csv('/content/predictTest.csv', index=False, header=False)"
      ],
      "metadata": {
        "id": "djaB8iBcPDDN"
      },
      "execution_count": 14,
      "outputs": []
    },
    {
      "cell_type": "code",
      "source": [],
      "metadata": {
        "id": "12ffRgmHPDGN"
      },
      "execution_count": null,
      "outputs": []
    }
  ]
}